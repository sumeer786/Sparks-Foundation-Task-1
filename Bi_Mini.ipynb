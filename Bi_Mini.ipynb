{
  "nbformat": 4,
  "nbformat_minor": 0,
  "metadata": {
    "colab": {
      "name": "Bi Mini.ipynb",
      "provenance": [],
      "collapsed_sections": [],
      "authorship_tag": "ABX9TyMwvlldKM7Z+oVp3lzZeQCq",
      "include_colab_link": true
    },
    "kernelspec": {
      "name": "python3",
      "display_name": "Python 3"
    }
  },
  "cells": [
    {
      "cell_type": "markdown",
      "metadata": {
        "id": "view-in-github",
        "colab_type": "text"
      },
      "source": [
        "<a href=\"https://colab.research.google.com/github/sumeer786/Sparks-Foundation-Task-1/blob/main/Bi_Mini.ipynb\" target=\"_parent\"><img src=\"https://colab.research.google.com/assets/colab-badge.svg\" alt=\"Open In Colab\"/></a>"
      ]
    },
    {
      "cell_type": "markdown",
      "metadata": {
        "id": "04Lqo0NnwjlM"
      },
      "source": [
        "***Importing Libaries***"
      ]
    },
    {
      "cell_type": "code",
      "metadata": {
        "id": "RbRE52NNw22Q"
      },
      "source": [
        "import pandas as pd\n",
        "import numpy as np"
      ],
      "execution_count": null,
      "outputs": []
    },
    {
      "cell_type": "markdown",
      "metadata": {
        "id": "5keCIAVTw7TM"
      },
      "source": [
        "**Getting the data**"
      ]
    },
    {
      "cell_type": "code",
      "metadata": {
        "id": "d6Dqd9MGw_C5"
      },
      "source": [
        "dataset=pd.read_csv('laptop_pricing.csv')\n",
        "x=dataset.iloc[:,1 :-1].values #features data\n",
        "y=dataset.iloc[:, -1].values #price data"
      ],
      "execution_count": null,
      "outputs": []
    },
    {
      "cell_type": "markdown",
      "metadata": {
        "id": "0o_dhhfyxDPw"
      },
      "source": [
        "**Spliting the data into training set and test set**"
      ]
    },
    {
      "cell_type": "code",
      "metadata": {
        "id": "BAJBJr-oxL1t",
        "colab": {
          "base_uri": "https://localhost:8080/",
          "height": 241
        },
        "outputId": "86bd1457-ad22-4e8e-8b53-61dc46a68132"
      },
      "source": [
        "from sklearn.model_selection import train_test_split\n",
        "x_train,x_test,y_train,y_test=train_test_split(x,y,test_size=0.2,random_state=0)\n",
        "dataset.head()"
      ],
      "execution_count": null,
      "outputs": [
        {
          "output_type": "execute_result",
          "data": {
            "text/html": [
              "<div>\n",
              "<style scoped>\n",
              "    .dataframe tbody tr th:only-of-type {\n",
              "        vertical-align: middle;\n",
              "    }\n",
              "\n",
              "    .dataframe tbody tr th {\n",
              "        vertical-align: top;\n",
              "    }\n",
              "\n",
              "    .dataframe thead th {\n",
              "        text-align: right;\n",
              "    }\n",
              "</style>\n",
              "<table border=\"1\" class=\"dataframe\">\n",
              "  <thead>\n",
              "    <tr style=\"text-align: right;\">\n",
              "      <th></th>\n",
              "      <th>Manufacturer</th>\n",
              "      <th>IntelCore(i-)</th>\n",
              "      <th>IntelCoreGen</th>\n",
              "      <th>processing speed(GHz)</th>\n",
              "      <th>Ram(gb)</th>\n",
              "      <th>HDD(gb)</th>\n",
              "      <th>SSD(gb)</th>\n",
              "      <th>Graphics(gb)</th>\n",
              "      <th>ScreenSize(inch)</th>\n",
              "      <th>Price</th>\n",
              "    </tr>\n",
              "  </thead>\n",
              "  <tbody>\n",
              "    <tr>\n",
              "      <th>0</th>\n",
              "      <td>Dell</td>\n",
              "      <td>3</td>\n",
              "      <td>7</td>\n",
              "      <td>2.29</td>\n",
              "      <td>4</td>\n",
              "      <td>1000</td>\n",
              "      <td>0</td>\n",
              "      <td>0</td>\n",
              "      <td>15.6</td>\n",
              "      <td>39057</td>\n",
              "    </tr>\n",
              "    <tr>\n",
              "      <th>1</th>\n",
              "      <td>Dell</td>\n",
              "      <td>3</td>\n",
              "      <td>7</td>\n",
              "      <td>2.30</td>\n",
              "      <td>4</td>\n",
              "      <td>1000</td>\n",
              "      <td>0</td>\n",
              "      <td>0</td>\n",
              "      <td>15.6</td>\n",
              "      <td>45141</td>\n",
              "    </tr>\n",
              "    <tr>\n",
              "      <th>2</th>\n",
              "      <td>HP</td>\n",
              "      <td>3</td>\n",
              "      <td>7</td>\n",
              "      <td>2.30</td>\n",
              "      <td>8</td>\n",
              "      <td>256</td>\n",
              "      <td>256</td>\n",
              "      <td>0</td>\n",
              "      <td>14.0</td>\n",
              "      <td>35999</td>\n",
              "    </tr>\n",
              "    <tr>\n",
              "      <th>3</th>\n",
              "      <td>ASUS</td>\n",
              "      <td>3</td>\n",
              "      <td>7</td>\n",
              "      <td>2.30</td>\n",
              "      <td>4</td>\n",
              "      <td>1000</td>\n",
              "      <td>0</td>\n",
              "      <td>0</td>\n",
              "      <td>14.0</td>\n",
              "      <td>39990</td>\n",
              "    </tr>\n",
              "    <tr>\n",
              "      <th>4</th>\n",
              "      <td>HP</td>\n",
              "      <td>3</td>\n",
              "      <td>7</td>\n",
              "      <td>2.40</td>\n",
              "      <td>4</td>\n",
              "      <td>1000</td>\n",
              "      <td>0</td>\n",
              "      <td>0</td>\n",
              "      <td>15.6</td>\n",
              "      <td>36263</td>\n",
              "    </tr>\n",
              "  </tbody>\n",
              "</table>\n",
              "</div>"
            ],
            "text/plain": [
              "  Manufacturer  IntelCore(i-)  ...  ScreenSize(inch)  Price\n",
              "0         Dell              3  ...              15.6  39057\n",
              "1         Dell              3  ...              15.6  45141\n",
              "2           HP              3  ...              14.0  35999\n",
              "3         ASUS              3  ...              14.0  39990\n",
              "4           HP              3  ...              15.6  36263\n",
              "\n",
              "[5 rows x 10 columns]"
            ]
          },
          "metadata": {
            "tags": []
          },
          "execution_count": 6
        }
      ]
    },
    {
      "cell_type": "markdown",
      "metadata": {
        "id": "oKHEhtzLxSat"
      },
      "source": [
        "**Feature Scaling**"
      ]
    },
    {
      "cell_type": "code",
      "metadata": {
        "id": "FVqC2BGnxVrl"
      },
      "source": [
        "from sklearn.preprocessing import StandardScaler\n",
        "sc=StandardScaler()\n",
        "x_train = sc.fit_transform(x_train)\n",
        "x_test = sc.transform(x_test)"
      ],
      "execution_count": null,
      "outputs": []
    },
    {
      "cell_type": "markdown",
      "metadata": {
        "id": "EkzsOOIRxkKy"
      },
      "source": [
        "**Implementing using logistic regression**"
      ]
    },
    {
      "cell_type": "code",
      "metadata": {
        "id": "SqbQ2jALxlmq",
        "colab": {
          "base_uri": "https://localhost:8080/"
        },
        "outputId": "fe2f7e40-4794-481b-8f15-8672043eac12"
      },
      "source": [
        "from sklearn.linear_model import LogisticRegression\n",
        "classifier=LogisticRegression(random_state=0)\n",
        "classifier.fit(x_train,y_train)"
      ],
      "execution_count": null,
      "outputs": [
        {
          "output_type": "execute_result",
          "data": {
            "text/plain": [
              "LogisticRegression(C=1.0, class_weight=None, dual=False, fit_intercept=True,\n",
              "                   intercept_scaling=1, l1_ratio=None, max_iter=100,\n",
              "                   multi_class='auto', n_jobs=None, penalty='l2',\n",
              "                   random_state=0, solver='lbfgs', tol=0.0001, verbose=0,\n",
              "                   warm_start=False)"
            ]
          },
          "metadata": {
            "tags": []
          },
          "execution_count": 8
        }
      ]
    },
    {
      "cell_type": "markdown",
      "metadata": {
        "id": "iYHiWJLJx82L"
      },
      "source": [
        "**Predicting the new result**"
      ]
    },
    {
      "cell_type": "code",
      "metadata": {
        "id": "HVTqFNrJyLqt",
        "colab": {
          "base_uri": "https://localhost:8080/"
        },
        "outputId": "b77099fd-0555-48e3-cece-9432cbb8a1d3"
      },
      "source": [
        "print(classifier.predict(sc.transform([[2,5,2.3,4,1000,0,0,15.6]]))) #example"
      ],
      "execution_count": null,
      "outputs": [
        {
          "output_type": "stream",
          "text": [
            "[30690]\n"
          ],
          "name": "stdout"
        }
      ]
    },
    {
      "cell_type": "markdown",
      "metadata": {
        "id": "2CFETQifPaa7"
      },
      "source": [
        "**Predicting the test set result**"
      ]
    },
    {
      "cell_type": "code",
      "metadata": {
        "id": "fpPTxNKAPamZ",
        "colab": {
          "base_uri": "https://localhost:8080/"
        },
        "outputId": "c3fa5c5d-6741-4e4d-d3e6-141958e448d1"
      },
      "source": [
        "y_pred = classifier.predict(x_test)\n",
        "print(np.concatenate((y_pred.reshape(len(y_pred),1), y_test.reshape(len(y_test),1)),1))"
      ],
      "execution_count": null,
      "outputs": [
        {
          "output_type": "stream",
          "text": [
            "[[ 26403  35999]\n",
            " [ 74931  97990]\n",
            " [ 99555 118890]\n",
            " [ 45390  42590]\n",
            " [ 30690  34890]\n",
            " [ 99555 118890]]\n"
          ],
          "name": "stdout"
        }
      ]
    }
  ]
}